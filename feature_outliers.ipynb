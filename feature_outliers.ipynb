{
 "cells": [
  {
   "cell_type": "code",
   "execution_count": 1,
   "id": "minute-mechanism",
   "metadata": {},
   "outputs": [],
   "source": [
    "import pandas as pd\n",
    "import numpy as np\n",
    "# from warnings import warn"
   ]
  },
  {
   "cell_type": "code",
   "execution_count": 2,
   "id": "first-cattle",
   "metadata": {},
   "outputs": [
    {
     "name": "stdout",
     "output_type": "stream",
     "text": [
      "(891, 6)\n"
     ]
    }
   ],
   "source": [
    "use_cols = [\n",
    "    'Pclass', 'Sex', 'Age', 'Fare', 'SibSp',\n",
    "    'Survived'\n",
    "]\n",
    "\n",
    "\n",
    "data = pd.read_csv('./data/titanic.csv', usecols=use_cols)\n",
    "data.head(3)\n",
    "print(data.shape)"
   ]
  },
  {
   "cell_type": "code",
   "execution_count": 13,
   "id": "expected-publicity",
   "metadata": {},
   "outputs": [
    {
     "data": {
      "text/plain": [
       "104      0.0000\n",
       "163      4.0125\n",
       "245      5.0000\n",
       "152      6.2375\n",
       "240      6.4375\n",
       "         ...   \n",
       "164    227.5250\n",
       "75     247.5208\n",
       "148    262.3750\n",
       "23     263.0000\n",
       "127    512.3292\n",
       "Length: 248, dtype: float64"
      ]
     },
     "execution_count": 13,
     "metadata": {},
     "output_type": "execute_result"
    }
   ],
   "source": [
    "pd.Series(data.Fare.unique()).sort_values()\n",
    "#data.Fare.unique()"
   ]
  },
  {
   "cell_type": "markdown",
   "id": "particular-depth",
   "metadata": {},
   "source": [
    "### Detect by arbitrary boundary\n",
    "#### identify outliers based on arbitrary boundaries"
   ]
  },
  {
   "cell_type": "code",
   "execution_count": 39,
   "id": "virgin-bathroom",
   "metadata": {},
   "outputs": [],
   "source": [
    "def outlier_detect_arbitrary(data,col,upper_fence,lower_fence):\n",
    "    '''\n",
    "    identify outliers based on arbitrary boundaries passed to the function.\n",
    "    '''\n",
    "    para = (upper_fence,lower_fence)\n",
    "    tmp = pd.concat([data[col] > upper_fence, data[col] < lower_fence],axis = 1)\n",
    "    outlier_index = tmp.any(axis = 1)\n",
    "    print('Num of outliers detected: ',outlier_index.value_counts()[1])\n",
    "    print('Proportion of outlier detected :',outlier_index.value_counts()[1]/len(outlier_index))\n",
    "    return outlier_index, para"
   ]
  },
  {
   "cell_type": "code",
   "execution_count": 40,
   "id": "promising-wholesale",
   "metadata": {},
   "outputs": [
    {
     "name": "stdout",
     "output_type": "stream",
     "text": [
      "Num of outliers detected:  19\n",
      "Proportion of outlier detected : 0.02132435465768799\n",
      "Upper bound: 300 \n",
      "Lower bound: 5\n"
     ]
    }
   ],
   "source": [
    "index,para = outlier_detect_arbitrary(data=data,col='Fare',upper_fence=300,lower_fence=5)\n",
    "print('Upper bound:',para[0],'\\nLower bound:',para[1])"
   ]
  },
  {
   "cell_type": "code",
   "execution_count": 42,
   "id": "dietary-uncle",
   "metadata": {},
   "outputs": [
    {
     "data": {
      "text/plain": [
       "179      0.0000\n",
       "806      0.0000\n",
       "732      0.0000\n",
       "674      0.0000\n",
       "633      0.0000\n",
       "597      0.0000\n",
       "815      0.0000\n",
       "466      0.0000\n",
       "481      0.0000\n",
       "302      0.0000\n",
       "277      0.0000\n",
       "271      0.0000\n",
       "263      0.0000\n",
       "413      0.0000\n",
       "822      0.0000\n",
       "378      4.0125\n",
       "679    512.3292\n",
       "737    512.3292\n",
       "258    512.3292\n",
       "Name: Fare, dtype: float64"
      ]
     },
     "execution_count": 42,
     "metadata": {},
     "output_type": "execute_result"
    }
   ],
   "source": [
    "# check the 19 found outliers\n",
    "data.loc[index, 'Fare'].sort_values()"
   ]
  },
  {
   "cell_type": "code",
   "execution_count": null,
   "id": "charged-angle",
   "metadata": {},
   "outputs": [],
   "source": []
  }
 ],
 "metadata": {
  "kernelspec": {
   "display_name": "Python 3",
   "language": "python",
   "name": "python3"
  },
  "language_info": {
   "codemirror_mode": {
    "name": "ipython",
    "version": 3
   },
   "file_extension": ".py",
   "mimetype": "text/x-python",
   "name": "python",
   "nbconvert_exporter": "python",
   "pygments_lexer": "ipython3",
   "version": "3.7.9"
  }
 },
 "nbformat": 4,
 "nbformat_minor": 5
}
