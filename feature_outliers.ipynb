{
 "cells": [
  {
   "cell_type": "code",
   "execution_count": 4,
   "id": "minute-mechanism",
   "metadata": {},
   "outputs": [],
   "source": [
    "import pandas as pd\n",
    "import numpy as np\n",
    "# from warnings import warn"
   ]
  },
  {
   "cell_type": "code",
   "execution_count": 5,
   "id": "first-cattle",
   "metadata": {},
   "outputs": [
    {
     "name": "stdout",
     "output_type": "stream",
     "text": [
      "(891, 6)\n"
     ]
    }
   ],
   "source": [
    "use_cols = [\n",
    "    'Pclass', 'Sex', 'Age', 'Fare', 'SibSp',\n",
    "    'Survived'\n",
    "]\n",
    "\n",
    "\n",
    "data = pd.read_csv('./data/titanic.csv', usecols=use_cols)\n",
    "data.head(3)\n",
    "print(data.shape)"
   ]
  },
  {
   "cell_type": "code",
   "execution_count": 6,
   "id": "expected-publicity",
   "metadata": {},
   "outputs": [
    {
     "data": {
      "text/plain": [
       "104      0.0000\n",
       "163      4.0125\n",
       "245      5.0000\n",
       "152      6.2375\n",
       "240      6.4375\n",
       "         ...   \n",
       "164    227.5250\n",
       "75     247.5208\n",
       "148    262.3750\n",
       "23     263.0000\n",
       "127    512.3292\n",
       "Length: 248, dtype: float64"
      ]
     },
     "execution_count": 6,
     "metadata": {},
     "output_type": "execute_result"
    }
   ],
   "source": [
    "pd.Series(data.Fare.unique()).sort_values()\n",
    "#data.Fare.unique()"
   ]
  },
  {
   "cell_type": "markdown",
   "id": "particular-depth",
   "metadata": {},
   "source": [
    "### Detect by arbitrary boundary\n",
    "#### identify outliers based on arbitrary boundaries"
   ]
  },
  {
   "cell_type": "code",
   "execution_count": 7,
   "id": "virgin-bathroom",
   "metadata": {},
   "outputs": [],
   "source": [
    "def outlier_detect_arbitrary(data,col,upper_fence,lower_fence):\n",
    "    '''\n",
    "    identify outliers based on arbitrary boundaries passed to the function.\n",
    "    '''\n",
    "    para = (upper_fence,lower_fence)\n",
    "    tmp = pd.concat([data[col] > upper_fence, data[col] < lower_fence],axis = 1)\n",
    "    outlier_index = tmp.any(axis = 1)\n",
    "    print('Num of outliers detected: ',outlier_index.value_counts()[1])\n",
    "    print('Proportion of outlier detected :',outlier_index.value_counts()[1]/len(outlier_index))\n",
    "    return outlier_index, para"
   ]
  },
  {
   "cell_type": "code",
   "execution_count": 8,
   "id": "promising-wholesale",
   "metadata": {},
   "outputs": [
    {
     "name": "stdout",
     "output_type": "stream",
     "text": [
      "Num of outliers detected:  19\n",
      "Proportion of outlier detected : 0.02132435465768799\n",
      "Upper bound: 300 \n",
      "Lower bound: 5\n"
     ]
    }
   ],
   "source": [
    "index,para = outlier_detect_arbitrary(data=data,col='Fare',upper_fence=300,lower_fence=5)\n",
    "print('Upper bound:',para[0],'\\nLower bound:',para[1])"
   ]
  },
  {
   "cell_type": "code",
   "execution_count": 9,
   "id": "dietary-uncle",
   "metadata": {},
   "outputs": [
    {
     "data": {
      "text/plain": [
       "179      0.0000\n",
       "806      0.0000\n",
       "732      0.0000\n",
       "674      0.0000\n",
       "633      0.0000\n",
       "597      0.0000\n",
       "815      0.0000\n",
       "466      0.0000\n",
       "481      0.0000\n",
       "302      0.0000\n",
       "277      0.0000\n",
       "271      0.0000\n",
       "263      0.0000\n",
       "413      0.0000\n",
       "822      0.0000\n",
       "378      4.0125\n",
       "679    512.3292\n",
       "737    512.3292\n",
       "258    512.3292\n",
       "Name: Fare, dtype: float64"
      ]
     },
     "execution_count": 9,
     "metadata": {},
     "output_type": "execute_result"
    }
   ],
   "source": [
    "# check the 19 found outliers\n",
    "data.loc[index, 'Fare'].sort_values()"
   ]
  },
  {
   "cell_type": "markdown",
   "id": "interstate-donna",
   "metadata": {},
   "source": [
    "### IQR method\n",
    "#### outlier detection by Interquartile Ranges Rule"
   ]
  },
  {
   "cell_type": "code",
   "execution_count": 10,
   "id": "needed-municipality",
   "metadata": {},
   "outputs": [],
   "source": [
    "def outlier_detect_IQR(data,col,threshold = 3):\n",
    "    '''\n",
    "    outlier detection by Interquartile Ranges Rule, also known as Tukey's test. \n",
    "    calculate the IQR ( 75th quantile - 25th quantile) \n",
    "    and the 25th 75th quantile. \n",
    "    Any value beyond:\n",
    "        upper bound = 75th quantile + （IQR * threshold）\n",
    "        lower bound = 25th quantile - （IQR * threshold）   \n",
    "    are regarded as outliers. Default threshold is 3.\n",
    "    '''\n",
    "    IQR = data[col].quantile(0.75) - data[col].quantile(0.25)\n",
    "    lower_fence = data[col].quantile(0.25) - (IQR * threshold)\n",
    "    upper_fence = data[col].quantile(0.75) + (IQR * threshold)\n",
    "    para = (lower_fence, upper_fence)\n",
    "    tmp = pd.concat([data[col] > upper_fence, data[col] < lower_fence],axis = 1)\n",
    "    outlier_index = tmp.any(axis = 1)\n",
    "    print('Num of outlier detected:',outlier_index.value_counts()[1])\n",
    "    print('Proportion of outlier detected',outlier_index.value_counts()[1]/len(outlier_index))\n",
    "    return outlier_index, para"
   ]
  },
  {
   "cell_type": "code",
   "execution_count": 11,
   "id": "declared-french",
   "metadata": {},
   "outputs": [
    {
     "name": "stdout",
     "output_type": "stream",
     "text": [
      "Num of outlier detected: 31\n",
      "Proportion of outlier detected 0.03479236812570146\n",
      "Upper bound: -107.53760000000001 \n",
      "Lower bound: 146.448\n"
     ]
    }
   ],
   "source": [
    "index,para = outlier_detect_IQR(data=data,col='Fare',threshold=5)\n",
    "print('Upper bound:',para[0],'\\nLower bound:',para[1])"
   ]
  },
  {
   "cell_type": "code",
   "execution_count": 12,
   "id": "inside-mention",
   "metadata": {},
   "outputs": [
    {
     "data": {
      "text/plain": [
       "31     146.5208\n",
       "195    146.5208\n",
       "305    151.5500\n",
       "708    151.5500\n",
       "297    151.5500\n",
       "498    151.5500\n",
       "609    153.4625\n",
       "332    153.4625\n",
       "268    153.4625\n",
       "318    164.8667\n",
       "856    164.8667\n",
       "730    211.3375\n",
       "779    211.3375\n",
       "689    211.3375\n",
       "377    211.5000\n",
       "527    221.7792\n",
       "700    227.5250\n",
       "716    227.5250\n",
       "557    227.5250\n",
       "380    227.5250\n",
       "299    247.5208\n",
       "118    247.5208\n",
       "311    262.3750\n",
       "742    262.3750\n",
       "341    263.0000\n",
       "88     263.0000\n",
       "438    263.0000\n",
       "27     263.0000\n",
       "679    512.3292\n",
       "258    512.3292\n",
       "737    512.3292\n",
       "Name: Fare, dtype: float64"
      ]
     },
     "execution_count": 12,
     "metadata": {},
     "output_type": "execute_result"
    }
   ],
   "source": [
    "# check the 31 found outliers\n",
    "data.loc[index,'Fare'].sort_values()"
   ]
  },
  {
   "cell_type": "markdown",
   "id": "apparent-scope",
   "metadata": {},
   "source": [
    "### Mean and Standard Deviation Method\n",
    "#### outlier detection by Mean and Standard Deviation Method."
   ]
  },
  {
   "cell_type": "code",
   "execution_count": 15,
   "id": "acquired-sugar",
   "metadata": {},
   "outputs": [],
   "source": [
    "def outlier_detect_mean_std(data,col,threshold = 3):\n",
    "    '''\n",
    "    outlier detection by Mean and Standard Deviation Method.\n",
    "    If a value is a certain number(called threshold) of standard deviations away \n",
    "    from the mean, that data point is identified as an outlier. \n",
    "    Default threshold is 3.\n",
    "    This method can fail to detect outliers because the outliers increase the standard deviation. \n",
    "    The more extreme the outlier, the more the standard deviation is affected.\n",
    "    '''\n",
    "    \n",
    "    upper_fence = data[col].mean() + threshold * data[col].std()\n",
    "    lower_fence = data[col].mean() - threshold * data[col].std()\n",
    "    \n",
    "    para = (upper_fence, lower_fence)\n",
    "    tmp = pd.concat([data[col] > upper_fence, data[col] < lower_fence],axis = 1)\n",
    "    outlier_index = tmp.any(axis = 1)\n",
    "    print('Num of outlier detected:',outlier_index.value_counts()[1])\n",
    "    print('Proportion of outlier detected',outlier_index.value_counts()[1]/len(outlier_index))\n",
    "    return outlier_index, para"
   ]
  },
  {
   "cell_type": "code",
   "execution_count": 16,
   "id": "treated-installation",
   "metadata": {},
   "outputs": [
    {
     "name": "stdout",
     "output_type": "stream",
     "text": [
      "Num of outlier detected: 20\n",
      "Proportion of outlier detected 0.02244668911335578\n",
      "Upper bound: 181.2844937601173 \n",
      "Lower bound: -116.87607782296804\n"
     ]
    }
   ],
   "source": [
    "index,para = outlier_detect_mean_std(data=data,col='Fare',threshold=3)\n",
    "print('Upper bound:',para[0],'\\nLower bound:',para[1])"
   ]
  },
  {
   "cell_type": "code",
   "execution_count": 17,
   "id": "cubic-approach",
   "metadata": {},
   "outputs": [
    {
     "data": {
      "text/plain": [
       "779    211.3375\n",
       "730    211.3375\n",
       "689    211.3375\n",
       "377    211.5000\n",
       "527    221.7792\n",
       "716    227.5250\n",
       "700    227.5250\n",
       "380    227.5250\n",
       "557    227.5250\n",
       "118    247.5208\n",
       "299    247.5208\n",
       "311    262.3750\n",
       "742    262.3750\n",
       "27     263.0000\n",
       "341    263.0000\n",
       "88     263.0000\n",
       "438    263.0000\n",
       "258    512.3292\n",
       "737    512.3292\n",
       "679    512.3292\n",
       "Name: Fare, dtype: float64"
      ]
     },
     "execution_count": 17,
     "metadata": {},
     "output_type": "execute_result"
    }
   ],
   "source": [
    "# check the 20 found outliers\n",
    "data.loc[index,'Fare'].sort_values()"
   ]
  },
  {
   "cell_type": "markdown",
   "id": "transsexual-bench",
   "metadata": {},
   "source": [
    "### MAD method\n",
    "#### outlier detection by Median and Median Absolute Deviation Method (MAD)"
   ]
  },
  {
   "cell_type": "code",
   "execution_count": null,
   "id": "treated-footwear",
   "metadata": {},
   "outputs": [],
   "source": [
    "def outlier_detect_MAD(data,col,threshold=3.5):\n",
    "    \"\"\"\n",
    "    outlier detection by Median and Median Absolute Deviation Method (MAD)\n",
    "    The median of the residuals is calculated. Then, the difference is calculated between each historical value and this median. \n",
    "    These differences are expressed as their absolute values, and a new median is calculated and multiplied by \n",
    "    an empirically derived constant to yield the median absolute deviation (MAD). \n",
    "    If a value is a certain number of MAD away from the median of the residuals, \n",
    "    that value is classified as an outlier. The default threshold is 3 MAD.\n",
    "    \n",
    "    This method is generally more effective than the mean and standard deviation method for detecting outliers, \n",
    "    but it can be too aggressive in classifying values that are not really extremely different. \n",
    "    Also, if more than 50% of the data points have the same value, MAD is computed to be 0, \n",
    "    so any value different from the residual median is classified as an outlier.\n",
    "    \"\"\"\n",
    "    "
   ]
  },
  {
   "cell_type": "code",
   "execution_count": null,
   "id": "universal-recruitment",
   "metadata": {},
   "outputs": [],
   "source": [
    "# too aggressive for our dataset, about 18% of cases are detected as outliers.\n",
    "index = outlier_detect_MAD(data=data,col='Fare',threshold=3.5)"
   ]
  }
 ],
 "metadata": {
  "kernelspec": {
   "display_name": "Python 3",
   "language": "python",
   "name": "python3"
  },
  "language_info": {
   "codemirror_mode": {
    "name": "ipython",
    "version": 3
   },
   "file_extension": ".py",
   "mimetype": "text/x-python",
   "name": "python",
   "nbconvert_exporter": "python",
   "pygments_lexer": "ipython3",
   "version": "3.7.9"
  }
 },
 "nbformat": 4,
 "nbformat_minor": 5
}
