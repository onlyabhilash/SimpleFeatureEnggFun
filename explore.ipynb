{
 "cells": [
  {
   "cell_type": "code",
   "execution_count": 51,
   "id": "virtual-journal",
   "metadata": {},
   "outputs": [],
   "source": [
    "import pandas as pd\n",
    "import numpy as np\n",
    "import os\n",
    "import matplotlib.pyplot as plt\n",
    "import seaborn as sns"
   ]
  },
  {
   "cell_type": "code",
   "execution_count": 25,
   "id": "directed-wagner",
   "metadata": {},
   "outputs": [],
   "source": [
    "use_cols = [\n",
    "    'Pclass','Sex','Age', 'Fare', 'SibSp',\n",
    "    'Survived'\n",
    "]\n",
    "\n",
    "data = pd.read_csv('data/titanic.csv', usecols=use_cols)"
   ]
  },
  {
   "cell_type": "code",
   "execution_count": 26,
   "id": "civil-extension",
   "metadata": {},
   "outputs": [
    {
     "data": {
      "text/html": [
       "<div>\n",
       "<style scoped>\n",
       "    .dataframe tbody tr th:only-of-type {\n",
       "        vertical-align: middle;\n",
       "    }\n",
       "\n",
       "    .dataframe tbody tr th {\n",
       "        vertical-align: top;\n",
       "    }\n",
       "\n",
       "    .dataframe thead th {\n",
       "        text-align: right;\n",
       "    }\n",
       "</style>\n",
       "<table border=\"1\" class=\"dataframe\">\n",
       "  <thead>\n",
       "    <tr style=\"text-align: right;\">\n",
       "      <th></th>\n",
       "      <th>Survived</th>\n",
       "      <th>Pclass</th>\n",
       "      <th>Sex</th>\n",
       "      <th>Age</th>\n",
       "      <th>SibSp</th>\n",
       "      <th>Fare</th>\n",
       "    </tr>\n",
       "  </thead>\n",
       "  <tbody>\n",
       "    <tr>\n",
       "      <th>0</th>\n",
       "      <td>0</td>\n",
       "      <td>3</td>\n",
       "      <td>male</td>\n",
       "      <td>22.0</td>\n",
       "      <td>1</td>\n",
       "      <td>7.2500</td>\n",
       "    </tr>\n",
       "    <tr>\n",
       "      <th>1</th>\n",
       "      <td>1</td>\n",
       "      <td>1</td>\n",
       "      <td>female</td>\n",
       "      <td>38.0</td>\n",
       "      <td>1</td>\n",
       "      <td>71.2833</td>\n",
       "    </tr>\n",
       "    <tr>\n",
       "      <th>2</th>\n",
       "      <td>1</td>\n",
       "      <td>3</td>\n",
       "      <td>female</td>\n",
       "      <td>26.0</td>\n",
       "      <td>0</td>\n",
       "      <td>7.9250</td>\n",
       "    </tr>\n",
       "    <tr>\n",
       "      <th>3</th>\n",
       "      <td>1</td>\n",
       "      <td>1</td>\n",
       "      <td>female</td>\n",
       "      <td>35.0</td>\n",
       "      <td>1</td>\n",
       "      <td>53.1000</td>\n",
       "    </tr>\n",
       "    <tr>\n",
       "      <th>4</th>\n",
       "      <td>0</td>\n",
       "      <td>3</td>\n",
       "      <td>male</td>\n",
       "      <td>35.0</td>\n",
       "      <td>0</td>\n",
       "      <td>8.0500</td>\n",
       "    </tr>\n",
       "  </tbody>\n",
       "</table>\n",
       "</div>"
      ],
      "text/plain": [
       "   Survived  Pclass     Sex   Age  SibSp     Fare\n",
       "0         0       3    male  22.0      1   7.2500\n",
       "1         1       1  female  38.0      1  71.2833\n",
       "2         1       3  female  26.0      0   7.9250\n",
       "3         1       1  female  35.0      1  53.1000\n",
       "4         0       3    male  35.0      0   8.0500"
      ]
     },
     "execution_count": 26,
     "metadata": {},
     "output_type": "execute_result"
    }
   ],
   "source": [
    "data.head(5)"
   ]
  },
  {
   "cell_type": "code",
   "execution_count": 31,
   "id": "solid-technique",
   "metadata": {},
   "outputs": [],
   "source": [
    "def get_dtypes(data,drop_col = []):\n",
    "\n",
    "    \"\"\"\n",
    "    Return the dtypes for each column of a pandas Dataframe\n",
    "    Parameters\n",
    "    ----------\n",
    "    data : pandas Dataframe\n",
    "    drop_col : columns to omit in a list\n",
    "    Returns\n",
    "    -------\n",
    "    str_var_list, num_var_list, all_var_list\n",
    "    \"\"\"\n",
    "    name_of_col = list(data.columns)\n",
    "    str_var_list = []\n",
    "    num_var_list = []\n",
    "    all_var_list = []\n",
    "    \n",
    "    str_var_list = name_of_col.copy() # we have take first only the entire copy of list,then we can remove the elements\n",
    "    for var in name_of_col:\n",
    "        if (data[var].dtypes in (np.int, np.int64, np.uint, np.int32, np.float, np.float64, np.float32, np.double)):\n",
    "            str_var_list.remove(var)\n",
    "            num_var_list.append(var)\n",
    "          \n",
    "    for var in drop_col:\n",
    "        if var in str_var_list:\n",
    "            str_var_list.remove(var)\n",
    "        \n",
    "        if var in num_var_list:\n",
    "            num_var_list.remove(var)\n",
    "            \n",
    "    all_var_list.extend(str_var_list)\n",
    "    all_var_list.extend(num_var_list)\n",
    "    \n",
    "    return str_var_list, num_var_list, all_var_list\n"
   ]
  },
  {
   "cell_type": "code",
   "execution_count": 52,
   "id": "narrow-activation",
   "metadata": {},
   "outputs": [],
   "source": [
    "def describe(data,output_path = None):\n",
    "    \"\"\"\n",
    "    output the general description of a  pandas Dataframe\n",
    "    into a csv file\n",
    "    \n",
    "    \"\"\"\n",
    "    result = data.describe(include = 'all')\n",
    "    if output_path is not None:\n",
    "        output = os.path.join(output_path,'describe.csv')\n",
    "        result.to_csv(output)\n",
    "        print('result saved at :',str(output))\n",
    "    return result"
   ]
  },
  {
   "cell_type": "code",
   "execution_count": 54,
   "id": "caring-essex",
   "metadata": {},
   "outputs": [],
   "source": [
    "def discrete_var_barplot(x,y,data,output_path = None):\n",
    "    \"\"\"\n",
    "    draw the barplot of a discrete variable x against y(target variable). \n",
    "    By default the bar shows the mean value of y.\n",
    "    Parameters\n",
    "    ----------\n",
    "    Returns\n",
    "    -------\n",
    "    figure save as PNG\n",
    "    \"\"\"\n",
    "    \n",
    "    plt.figure(figsize = (12,6))\n",
    "    sns.barplot(x = x,y = y,data = data)\n",
    "    if output_path is not None:\n",
    "        output = os.path.join(output_path,'Barplot_'+str(x)+'_'+str(y)+'.png')\n",
    "        plt.savefig(output)\n",
    "        print('image saved at :',str(output))"
   ]
  },
  {
   "cell_type": "code",
   "execution_count": 57,
   "id": "acceptable-devices",
   "metadata": {},
   "outputs": [],
   "source": [
    "def discrete_var_countplot(x,data,output_path = None):\n",
    "    \"\"\"\n",
    "    draw the countplot of a discrete variable x\n",
    "    ----------\n",
    "    Returns\n",
    "    -------\n",
    "    figure save as PNG\n",
    "    \"\"\"\n",
    "    \n",
    "    plt.figure(figsize = (12,6))\n",
    "    sns.countplot(x = x,data = data)\n",
    "    if output_path is not None:\n",
    "        output = os.path.join(output_path,'countplot_'+str(x)+'.png')\n",
    "        plt.savefig(output)\n",
    "        print('image saved at :',str(output))"
   ]
  },
  {
   "cell_type": "code",
   "execution_count": 60,
   "id": "transparent-miami",
   "metadata": {},
   "outputs": [],
   "source": [
    "def discrete_var_boxplot(x,y,data,output_path = None):\n",
    "    \"\"\"\n",
    "    draw the boxplot of a discrete variable x against y.\n",
    "    Parameters\n",
    "    ----------\n",
    "    Returns\n",
    "    -------\n",
    "    figure save as PNG\n",
    "    \"\"\"\n",
    "    \n",
    "    plt.figure(figsize = (12,6))\n",
    "    sns.boxplot(x = x,y = y,data = data)\n",
    "    if output_path is not None:\n",
    "        output = os.path.join(output_path,'boxplot_'+str(x)+'_'+str(y)+'.png')\n",
    "        plt.savefig(output)\n",
    "        print('image saved at :',str(output))"
   ]
  },
  {
   "cell_type": "code",
   "execution_count": 62,
   "id": "freelance-nevada",
   "metadata": {},
   "outputs": [
    {
     "name": "stdout",
     "output_type": "stream",
     "text": [
      "image saved at : ./output/boxplot_Pclass_Fare.png\n"
     ]
    },
    {
     "data": {
      "image/png": "[encoded data removed]",
      "text/plain": [
       "<Figure size 864x432 with 1 Axes>"
      ]
     },
     "metadata": {
      "needs_background": "light"
     },
     "output_type": "display_data"
    }
   ],
   "source": [
    "discrete_var_boxplot(x='Pclass',y = 'Fare',data=data,output_path='./output/')"
   ]
  },
  {
   "cell_type": "code",
   "execution_count": 45,
   "id": "advisory-segment",
   "metadata": {},
   "outputs": [
    {
     "name": "stdout",
     "output_type": "stream",
     "text": [
      "result saved at : ./output/describe.csv\n"
     ]
    },
    {
     "data": {
      "text/html": [
       "<div>\n",
       "<style scoped>\n",
       "    .dataframe tbody tr th:only-of-type {\n",
       "        vertical-align: middle;\n",
       "    }\n",
       "\n",
       "    .dataframe tbody tr th {\n",
       "        vertical-align: top;\n",
       "    }\n",
       "\n",
       "    .dataframe thead th {\n",
       "        text-align: right;\n",
       "    }\n",
       "</style>\n",
       "<table border=\"1\" class=\"dataframe\">\n",
       "  <thead>\n",
       "    <tr style=\"text-align: right;\">\n",
       "      <th></th>\n",
       "      <th>Survived</th>\n",
       "      <th>Pclass</th>\n",
       "      <th>Sex</th>\n",
       "      <th>Age</th>\n",
       "      <th>SibSp</th>\n",
       "      <th>Fare</th>\n",
       "    </tr>\n",
       "  </thead>\n",
       "  <tbody>\n",
       "    <tr>\n",
       "      <th>count</th>\n",
       "      <td>891.000000</td>\n",
       "      <td>891.000000</td>\n",
       "      <td>891</td>\n",
       "      <td>714.000000</td>\n",
       "      <td>891.000000</td>\n",
       "      <td>891.000000</td>\n",
       "    </tr>\n",
       "    <tr>\n",
       "      <th>unique</th>\n",
       "      <td>NaN</td>\n",
       "      <td>NaN</td>\n",
       "      <td>2</td>\n",
       "      <td>NaN</td>\n",
       "      <td>NaN</td>\n",
       "      <td>NaN</td>\n",
       "    </tr>\n",
       "    <tr>\n",
       "      <th>top</th>\n",
       "      <td>NaN</td>\n",
       "      <td>NaN</td>\n",
       "      <td>male</td>\n",
       "      <td>NaN</td>\n",
       "      <td>NaN</td>\n",
       "      <td>NaN</td>\n",
       "    </tr>\n",
       "    <tr>\n",
       "      <th>freq</th>\n",
       "      <td>NaN</td>\n",
       "      <td>NaN</td>\n",
       "      <td>577</td>\n",
       "      <td>NaN</td>\n",
       "      <td>NaN</td>\n",
       "      <td>NaN</td>\n",
       "    </tr>\n",
       "    <tr>\n",
       "      <th>mean</th>\n",
       "      <td>0.383838</td>\n",
       "      <td>2.308642</td>\n",
       "      <td>NaN</td>\n",
       "      <td>29.699118</td>\n",
       "      <td>0.523008</td>\n",
       "      <td>32.204208</td>\n",
       "    </tr>\n",
       "    <tr>\n",
       "      <th>std</th>\n",
       "      <td>0.486592</td>\n",
       "      <td>0.836071</td>\n",
       "      <td>NaN</td>\n",
       "      <td>14.526497</td>\n",
       "      <td>1.102743</td>\n",
       "      <td>49.693429</td>\n",
       "    </tr>\n",
       "    <tr>\n",
       "      <th>min</th>\n",
       "      <td>0.000000</td>\n",
       "      <td>1.000000</td>\n",
       "      <td>NaN</td>\n",
       "      <td>0.420000</td>\n",
       "      <td>0.000000</td>\n",
       "      <td>0.000000</td>\n",
       "    </tr>\n",
       "    <tr>\n",
       "      <th>25%</th>\n",
       "      <td>0.000000</td>\n",
       "      <td>2.000000</td>\n",
       "      <td>NaN</td>\n",
       "      <td>20.125000</td>\n",
       "      <td>0.000000</td>\n",
       "      <td>7.910400</td>\n",
       "    </tr>\n",
       "    <tr>\n",
       "      <th>50%</th>\n",
       "      <td>0.000000</td>\n",
       "      <td>3.000000</td>\n",
       "      <td>NaN</td>\n",
       "      <td>28.000000</td>\n",
       "      <td>0.000000</td>\n",
       "      <td>14.454200</td>\n",
       "    </tr>\n",
       "    <tr>\n",
       "      <th>75%</th>\n",
       "      <td>1.000000</td>\n",
       "      <td>3.000000</td>\n",
       "      <td>NaN</td>\n",
       "      <td>38.000000</td>\n",
       "      <td>1.000000</td>\n",
       "      <td>31.000000</td>\n",
       "    </tr>\n",
       "    <tr>\n",
       "      <th>max</th>\n",
       "      <td>1.000000</td>\n",
       "      <td>3.000000</td>\n",
       "      <td>NaN</td>\n",
       "      <td>80.000000</td>\n",
       "      <td>8.000000</td>\n",
       "      <td>512.329200</td>\n",
       "    </tr>\n",
       "  </tbody>\n",
       "</table>\n",
       "</div>"
      ],
      "text/plain": [
       "          Survived      Pclass   Sex         Age       SibSp        Fare\n",
       "count   891.000000  891.000000   891  714.000000  891.000000  891.000000\n",
       "unique         NaN         NaN     2         NaN         NaN         NaN\n",
       "top            NaN         NaN  male         NaN         NaN         NaN\n",
       "freq           NaN         NaN   577         NaN         NaN         NaN\n",
       "mean      0.383838    2.308642   NaN   29.699118    0.523008   32.204208\n",
       "std       0.486592    0.836071   NaN   14.526497    1.102743   49.693429\n",
       "min       0.000000    1.000000   NaN    0.420000    0.000000    0.000000\n",
       "25%       0.000000    2.000000   NaN   20.125000    0.000000    7.910400\n",
       "50%       0.000000    3.000000   NaN   28.000000    0.000000   14.454200\n",
       "75%       1.000000    3.000000   NaN   38.000000    1.000000   31.000000\n",
       "max       1.000000    3.000000   NaN   80.000000    8.000000  512.329200"
      ]
     },
     "execution_count": 45,
     "metadata": {},
     "output_type": "execute_result"
    }
   ],
   "source": [
    "describe(data=data,output_path=r'./output/')"
   ]
  },
  {
   "cell_type": "code",
   "execution_count": 32,
   "id": "failing-stylus",
   "metadata": {},
   "outputs": [
    {
     "name": "stdout",
     "output_type": "stream",
     "text": [
      "['Sex']\n",
      "['Survived', 'Pclass', 'Age', 'SibSp', 'Fare']\n",
      "['Sex', 'Survived', 'Pclass', 'Age', 'SibSp', 'Fare']\n"
     ]
    }
   ],
   "source": [
    "str_var_list, num_var_list, all_var_list = get_dtypes(data=data)\n",
    "print(str_var_list) # String type\n",
    "print(num_var_list) # Numeric type\n",
    "print(all_var_list) # All"
   ]
  },
  {
   "cell_type": "code",
   "execution_count": null,
   "id": "speaking-alarm",
   "metadata": {},
   "outputs": [],
   "source": []
  },
  {
   "cell_type": "code",
   "execution_count": 30,
   "id": "rational-vehicle",
   "metadata": {},
   "outputs": [
    {
     "name": "stdout",
     "output_type": "stream",
     "text": [
      "<class 'pandas.core.frame.DataFrame'>\n",
      "RangeIndex: 891 entries, 0 to 890\n",
      "Data columns (total 6 columns):\n",
      " #   Column    Non-Null Count  Dtype  \n",
      "---  ------    --------------  -----  \n",
      " 0   Survived  891 non-null    int64  \n",
      " 1   Pclass    891 non-null    int64  \n",
      " 2   Sex       891 non-null    object \n",
      " 3   Age       714 non-null    float64\n",
      " 4   SibSp     891 non-null    int64  \n",
      " 5   Fare      891 non-null    float64\n",
      "dtypes: float64(2), int64(3), object(1)\n",
      "memory usage: 41.9+ KB\n"
     ]
    }
   ],
   "source": [
    "data.info()"
   ]
  },
  {
   "cell_type": "code",
   "execution_count": null,
   "id": "animated-assist",
   "metadata": {},
   "outputs": [],
   "source": []
  }
 ],
 "metadata": {
  "kernelspec": {
   "display_name": "Python 3",
   "language": "python",
   "name": "python3"
  },
  "language_info": {
   "codemirror_mode": {
    "name": "ipython",
    "version": 3
   },
   "file_extension": ".py",
   "mimetype": "text/x-python",
   "name": "python",
   "nbconvert_exporter": "python",
   "pygments_lexer": "ipython3",
   "version": "3.7.9"
  }
 },
 "nbformat": 4,
 "nbformat_minor": 5
}
